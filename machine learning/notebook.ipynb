{
 "cells": [
  {
   "cell_type": "markdown",
   "id": "d26fb4f1",
   "metadata": {},
   "source": [
    "# 1. Import Modul"
   ]
  },
  {
   "cell_type": "code",
   "execution_count": null,
   "id": "fe2c3fb8",
   "metadata": {},
   "outputs": [],
   "source": [
    "!pip install sastrawi"
   ]
  },
  {
   "cell_type": "code",
   "execution_count": 20,
   "id": "3aa1c082",
   "metadata": {},
   "outputs": [
    {
     "name": "stderr",
     "output_type": "stream",
     "text": [
      "[nltk_data] Downloading package punkt_tab to\n",
      "[nltk_data]     /home/adnandi/nltk_data...\n",
      "[nltk_data]   Package punkt_tab is already up-to-date!\n",
      "[nltk_data] Downloading package stopwords to\n",
      "[nltk_data]     /home/adnandi/nltk_data...\n",
      "[nltk_data]   Package stopwords is already up-to-date!\n"
     ]
    }
   ],
   "source": [
    "import pandas as pd\n",
    "import numpy as np\n",
    "import re\n",
    "import nltk\n",
    "from nltk.tokenize import word_tokenize\n",
    "from nltk.corpus import stopwords\n",
    "from Sastrawi.Stemmer.StemmerFactory import StemmerFactory\n",
    "nltk.download('punkt_tab')\n",
    "nltk.download('stopwords')\n",
    "\n",
    "from sklearn.preprocessing import LabelEncoder"
   ]
  },
  {
   "cell_type": "markdown",
   "id": "9184df3b",
   "metadata": {},
   "source": [
    "# 2. Load Data"
   ]
  },
  {
   "cell_type": "code",
   "execution_count": null,
   "id": "7976af13",
   "metadata": {},
   "outputs": [
    {
     "data": {
      "text/html": [
       "<div>\n",
       "<style scoped>\n",
       "    .dataframe tbody tr th:only-of-type {\n",
       "        vertical-align: middle;\n",
       "    }\n",
       "\n",
       "    .dataframe tbody tr th {\n",
       "        vertical-align: top;\n",
       "    }\n",
       "\n",
       "    .dataframe thead th {\n",
       "        text-align: right;\n",
       "    }\n",
       "</style>\n",
       "<table border=\"1\" class=\"dataframe\">\n",
       "  <thead>\n",
       "    <tr style=\"text-align: right;\">\n",
       "      <th></th>\n",
       "      <th>tgl-laporan</th>\n",
       "      <th>title</th>\n",
       "      <th>link</th>\n",
       "      <th>content</th>\n",
       "      <th>jenis_laporan</th>\n",
       "      <th>tingkat_urgensi</th>\n",
       "      <th>tingkat_bahaya</th>\n",
       "    </tr>\n",
       "  </thead>\n",
       "  <tbody>\n",
       "    <tr>\n",
       "      <th>0</th>\n",
       "      <td>Jumat, 08:23</td>\n",
       "      <td>Evakuasi Tawon</td>\n",
       "      <td>https://www.lapor.go.id/laporan/detil/evakuasi...</td>\n",
       "      <td>Pernohonan evakuasi tawon di atap rumah di sal...</td>\n",
       "      <td>Evakuasi/Penyelamatan Hewan</td>\n",
       "      <td>Segera</td>\n",
       "      <td>Bahaya Rendah</td>\n",
       "    </tr>\n",
       "    <tr>\n",
       "      <th>1</th>\n",
       "      <td>Jumat, 08:20</td>\n",
       "      <td>ular masuk dapur</td>\n",
       "      <td>https://www.lapor.go.id/laporan/detil/ular-mas...</td>\n",
       "      <td>Laporan dari salah satu warga di Kelurahan Mon...</td>\n",
       "      <td>Evakuasi/Penyelamatan Hewan</td>\n",
       "      <td>Segera</td>\n",
       "      <td>Bahaya Rendah</td>\n",
       "    </tr>\n",
       "    <tr>\n",
       "      <th>2</th>\n",
       "      <td>Jumat, 08:18</td>\n",
       "      <td>ular masuk rumah</td>\n",
       "      <td>https://www.lapor.go.id/laporan/detil/ular-mas...</td>\n",
       "      <td>Laporan dari salah satu warga di Kelurahan Ron...</td>\n",
       "      <td>Evakuasi/Penyelamatan Hewan</td>\n",
       "      <td>Segera</td>\n",
       "      <td>Bahaya Rendah</td>\n",
       "    </tr>\n",
       "    <tr>\n",
       "      <th>3</th>\n",
       "      <td>Jumat, 08:15</td>\n",
       "      <td>Kunci tertinggal di dalam mobil</td>\n",
       "      <td>https://www.lapor.go.id/laporan/detil/kunci-te...</td>\n",
       "      <td>Laporan dari salah satu warga di Desa Tunah Ke...</td>\n",
       "      <td>Penyelamatan Non Hewan &amp; Bantuan Teknis</td>\n",
       "      <td>Normal</td>\n",
       "      <td>Bahaya Rendah</td>\n",
       "    </tr>\n",
       "    <tr>\n",
       "      <th>4</th>\n",
       "      <td>Jumat, 08:12</td>\n",
       "      <td>Evakuasi Ular Sawo Kembang</td>\n",
       "      <td>https://www.lapor.go.id/laporan/detil/evakuasi...</td>\n",
       "      <td>Laporan permohonan evakuasi Ular Sowo kembang ...</td>\n",
       "      <td>Evakuasi/Penyelamatan Hewan</td>\n",
       "      <td>Segera</td>\n",
       "      <td>Bahaya Rendah</td>\n",
       "    </tr>\n",
       "  </tbody>\n",
       "</table>\n",
       "</div>"
      ],
      "text/plain": [
       "    tgl-laporan                            title  \\\n",
       "0  Jumat, 08:23                   Evakuasi Tawon   \n",
       "1  Jumat, 08:20                 ular masuk dapur   \n",
       "2  Jumat, 08:18                 ular masuk rumah   \n",
       "3  Jumat, 08:15  Kunci tertinggal di dalam mobil   \n",
       "4  Jumat, 08:12       Evakuasi Ular Sawo Kembang   \n",
       "\n",
       "                                                link  \\\n",
       "0  https://www.lapor.go.id/laporan/detil/evakuasi...   \n",
       "1  https://www.lapor.go.id/laporan/detil/ular-mas...   \n",
       "2  https://www.lapor.go.id/laporan/detil/ular-mas...   \n",
       "3  https://www.lapor.go.id/laporan/detil/kunci-te...   \n",
       "4  https://www.lapor.go.id/laporan/detil/evakuasi...   \n",
       "\n",
       "                                             content  \\\n",
       "0  Pernohonan evakuasi tawon di atap rumah di sal...   \n",
       "1  Laporan dari salah satu warga di Kelurahan Mon...   \n",
       "2  Laporan dari salah satu warga di Kelurahan Ron...   \n",
       "3  Laporan dari salah satu warga di Desa Tunah Ke...   \n",
       "4  Laporan permohonan evakuasi Ular Sowo kembang ...   \n",
       "\n",
       "                             jenis_laporan tingkat_urgensi tingkat_bahaya  \n",
       "0              Evakuasi/Penyelamatan Hewan          Segera  Bahaya Rendah  \n",
       "1              Evakuasi/Penyelamatan Hewan          Segera  Bahaya Rendah  \n",
       "2              Evakuasi/Penyelamatan Hewan          Segera  Bahaya Rendah  \n",
       "3  Penyelamatan Non Hewan & Bantuan Teknis          Normal  Bahaya Rendah  \n",
       "4              Evakuasi/Penyelamatan Hewan          Segera  Bahaya Rendah  "
      ]
     },
     "execution_count": 32,
     "metadata": {},
     "output_type": "execute_result"
    }
   ],
   "source": [
    "data = pd.read_csv('data/dataset_laporan_berlabel.csv')\n",
    "data.head()"
   ]
  },
  {
   "cell_type": "code",
   "execution_count": null,
   "id": "1f3df9db",
   "metadata": {},
   "outputs": [],
   "source": [
    "alay_dict = pd.read_csv('data/alay_dict.csv', encoding='latin-1', header=None)\n",
    "alay_dict = alay_dict.rename(columns={0: 'original',\n",
    "                                      1: 'replacement'})"
   ]
  },
  {
   "cell_type": "markdown",
   "id": "bc15fb62",
   "metadata": {},
   "source": [
    "# 3. Preprocessing"
   ]
  },
  {
   "cell_type": "code",
   "execution_count": 34,
   "id": "093e89c0",
   "metadata": {},
   "outputs": [],
   "source": [
    "data.drop_duplicates(inplace=True)"
   ]
  },
  {
   "cell_type": "code",
   "execution_count": 35,
   "id": "3ff7516c",
   "metadata": {},
   "outputs": [],
   "source": [
    "data.drop('tingkat_bahaya', axis=1, inplace=True)"
   ]
  },
  {
   "cell_type": "code",
   "execution_count": 36,
   "id": "51714f3e",
   "metadata": {},
   "outputs": [
    {
     "data": {
      "text/plain": [
       "jenis_laporan\n",
       "Evakuasi/Penyelamatan Hewan                338\n",
       "Kebakaran                                  165\n",
       "Penyelamatan Non Hewan & Bantuan Teknis     74\n",
       "Layanan Lingkungan & Fasilitas Umum         54\n",
       "Name: count, dtype: int64"
      ]
     },
     "execution_count": 36,
     "metadata": {},
     "output_type": "execute_result"
    }
   ],
   "source": [
    "data['jenis_laporan'].value_counts()"
   ]
  },
  {
   "cell_type": "code",
   "execution_count": 37,
   "id": "0d4174d9",
   "metadata": {},
   "outputs": [
    {
     "data": {
      "text/plain": [
       "(741, 6)"
      ]
     },
     "execution_count": 37,
     "metadata": {},
     "output_type": "execute_result"
    }
   ],
   "source": [
    "data.shape"
   ]
  },
  {
   "cell_type": "code",
   "execution_count": 38,
   "id": "612114ee",
   "metadata": {},
   "outputs": [],
   "source": [
    "stop_words = set(stopwords.words('indonesian'))"
   ]
  },
  {
   "cell_type": "code",
   "execution_count": 39,
   "id": "18c24193",
   "metadata": {},
   "outputs": [],
   "source": [
    "def lowercase(text):\n",
    "    return text.lower()\n",
    "\n",
    "def remove_unnecessary_char(text):\n",
    "    text = re.sub('\\n',' ',text) # Remove every '\\n'\n",
    "    text = re.sub('((www\\.[^\\s]+)|(https?://[^\\s]+)|(http?://[^\\s]+))',' ',text) # Remove every URL\n",
    "    text = re.sub('  +', ' ', text) # Remove extra spaces\n",
    "    return text\n",
    "\n",
    "def remove_nonaplhanumeric(text):\n",
    "    text = re.sub('[^0-9a-zA-Z!?,.]+', ' ', text)\n",
    "    return text\n",
    "\n",
    "alay_dict_map = dict(zip(alay_dict['original'], alay_dict['replacement']))\n",
    "def normalize_alay(text):\n",
    "    return ' '.join([alay_dict_map[word] if word in alay_dict_map else word for word in text.split(' ')])\n",
    "\n",
    "def remove_stopword(text):\n",
    "    # Tokenisasi kata agar lebih aman menghapus stopword\n",
    "    words = word_tokenize(text)\n",
    "    filtered_words = [word for word in words if word.lower() not in stop_words]\n",
    "    return ' '.join(filtered_words)"
   ]
  },
  {
   "cell_type": "code",
   "execution_count": 40,
   "id": "4ec9f9d9",
   "metadata": {},
   "outputs": [],
   "source": [
    "def preprocess(text):\n",
    "    text = lowercase(text)\n",
    "    text = remove_nonaplhanumeric(text)\n",
    "    text = remove_unnecessary_char(text)\n",
    "    text = normalize_alay(text)\n",
    "    # text = stemming(text)\n",
    "    text = remove_stopword(text)\n",
    "    return text"
   ]
  },
  {
   "cell_type": "code",
   "execution_count": 41,
   "id": "2398d2db",
   "metadata": {},
   "outputs": [],
   "source": [
    "data['content'] = data['content'].apply(preprocess)"
   ]
  },
  {
   "cell_type": "code",
   "execution_count": 42,
   "id": "935ef619",
   "metadata": {},
   "outputs": [
    {
     "data": {
      "text/html": [
       "<div>\n",
       "<style scoped>\n",
       "    .dataframe tbody tr th:only-of-type {\n",
       "        vertical-align: middle;\n",
       "    }\n",
       "\n",
       "    .dataframe tbody tr th {\n",
       "        vertical-align: top;\n",
       "    }\n",
       "\n",
       "    .dataframe thead th {\n",
       "        text-align: right;\n",
       "    }\n",
       "</style>\n",
       "<table border=\"1\" class=\"dataframe\">\n",
       "  <thead>\n",
       "    <tr style=\"text-align: right;\">\n",
       "      <th></th>\n",
       "      <th>tgl-laporan</th>\n",
       "      <th>title</th>\n",
       "      <th>link</th>\n",
       "      <th>content</th>\n",
       "      <th>jenis_laporan</th>\n",
       "      <th>tingkat_urgensi</th>\n",
       "    </tr>\n",
       "  </thead>\n",
       "  <tbody>\n",
       "    <tr>\n",
       "      <th>296</th>\n",
       "      <td>25 Okt 2024, 08:25</td>\n",
       "      <td>Evakuasi Sarang Tawon</td>\n",
       "      <td>https://www.lapor.go.id/laporan/detil/evakuasi...</td>\n",
       "      <td>laporan permohonan evakuasi sarang tawon salah...</td>\n",
       "      <td>Evakuasi/Penyelamatan Hewan</td>\n",
       "      <td>Segera</td>\n",
       "    </tr>\n",
       "    <tr>\n",
       "      <th>527</th>\n",
       "      <td>29 Apr, 8:06</td>\n",
       "      <td>Evakuasi biawak</td>\n",
       "      <td>https://www.lapor.go.id/laporan/detil/evakuasi...</td>\n",
       "      <td>evakuasi biawak jl . tanggaring ih no 1 rumah ...</td>\n",
       "      <td>Evakuasi/Penyelamatan Hewan</td>\n",
       "      <td>Segera</td>\n",
       "    </tr>\n",
       "    <tr>\n",
       "      <th>406</th>\n",
       "      <td>12 Des 2024, 04:05</td>\n",
       "      <td>Pohon Tumbang</td>\n",
       "      <td>https://www.lapor.go.id/laporan/detil/pohon-tu...</td>\n",
       "      <td>tabe .... melaporkan pohon tumbang akibat angi...</td>\n",
       "      <td>Penyelamatan Non Hewan &amp; Bantuan Teknis</td>\n",
       "      <td>Normal</td>\n",
       "    </tr>\n",
       "    <tr>\n",
       "      <th>562</th>\n",
       "      <td>19 Apr, 9:33</td>\n",
       "      <td>Evakuasi lebah</td>\n",
       "      <td>https://www.lapor.go.id/laporan/detil/evakuasi...</td>\n",
       "      <td>evakuasi lebah jl . belibis i no.12b minggu , ...</td>\n",
       "      <td>Evakuasi/Penyelamatan Hewan</td>\n",
       "      <td>Segera</td>\n",
       "    </tr>\n",
       "    <tr>\n",
       "      <th>317</th>\n",
       "      <td>12 Sep 2024, 10:04</td>\n",
       "      <td>ODGJ Meresahkan</td>\n",
       "      <td>https://www.lapor.go.id/laporan/detil/odgj-mer...</td>\n",
       "      <td>odgj meresahkan dsn . pareng rt.03 rw . 01 ds ...</td>\n",
       "      <td>NaN</td>\n",
       "      <td>NaN</td>\n",
       "    </tr>\n",
       "    <tr>\n",
       "      <th>219</th>\n",
       "      <td>30 Des 2024, 09:48</td>\n",
       "      <td>Selang gas Bocor</td>\n",
       "      <td>https://www.lapor.go.id/laporan/detil/selang-g...</td>\n",
       "      <td>mohon dibantu kebakaran akibat selang gas boco...</td>\n",
       "      <td>NaN</td>\n",
       "      <td>NaN</td>\n",
       "    </tr>\n",
       "    <tr>\n",
       "      <th>354</th>\n",
       "      <td>31 Jul 2024, 4:29</td>\n",
       "      <td>Kebakaran di Pemakaman Umum</td>\n",
       "      <td>https://www.lapor.go.id/laporan/detil/kebakara...</td>\n",
       "      <td>kebakaran pohon panggang berdiameter 7m berlok...</td>\n",
       "      <td>Kebakaran</td>\n",
       "      <td>Immediat</td>\n",
       "    </tr>\n",
       "  </tbody>\n",
       "</table>\n",
       "</div>"
      ],
      "text/plain": [
       "            tgl-laporan                        title  \\\n",
       "296  25 Okt 2024, 08:25        Evakuasi Sarang Tawon   \n",
       "527        29 Apr, 8:06              Evakuasi biawak   \n",
       "406  12 Des 2024, 04:05                Pohon Tumbang   \n",
       "562        19 Apr, 9:33               Evakuasi lebah   \n",
       "317  12 Sep 2024, 10:04              ODGJ Meresahkan   \n",
       "219  30 Des 2024, 09:48             Selang gas Bocor   \n",
       "354   31 Jul 2024, 4:29  Kebakaran di Pemakaman Umum   \n",
       "\n",
       "                                                  link  \\\n",
       "296  https://www.lapor.go.id/laporan/detil/evakuasi...   \n",
       "527  https://www.lapor.go.id/laporan/detil/evakuasi...   \n",
       "406  https://www.lapor.go.id/laporan/detil/pohon-tu...   \n",
       "562  https://www.lapor.go.id/laporan/detil/evakuasi...   \n",
       "317  https://www.lapor.go.id/laporan/detil/odgj-mer...   \n",
       "219  https://www.lapor.go.id/laporan/detil/selang-g...   \n",
       "354  https://www.lapor.go.id/laporan/detil/kebakara...   \n",
       "\n",
       "                                               content  \\\n",
       "296  laporan permohonan evakuasi sarang tawon salah...   \n",
       "527  evakuasi biawak jl . tanggaring ih no 1 rumah ...   \n",
       "406  tabe .... melaporkan pohon tumbang akibat angi...   \n",
       "562  evakuasi lebah jl . belibis i no.12b minggu , ...   \n",
       "317  odgj meresahkan dsn . pareng rt.03 rw . 01 ds ...   \n",
       "219  mohon dibantu kebakaran akibat selang gas boco...   \n",
       "354  kebakaran pohon panggang berdiameter 7m berlok...   \n",
       "\n",
       "                               jenis_laporan tingkat_urgensi  \n",
       "296              Evakuasi/Penyelamatan Hewan          Segera  \n",
       "527              Evakuasi/Penyelamatan Hewan          Segera  \n",
       "406  Penyelamatan Non Hewan & Bantuan Teknis          Normal  \n",
       "562              Evakuasi/Penyelamatan Hewan          Segera  \n",
       "317                                      NaN             NaN  \n",
       "219                                      NaN             NaN  \n",
       "354                                Kebakaran        Immediat  "
      ]
     },
     "execution_count": 42,
     "metadata": {},
     "output_type": "execute_result"
    }
   ],
   "source": [
    "data.sample(7)"
   ]
  },
  {
   "cell_type": "code",
   "execution_count": 44,
   "id": "13e269ab",
   "metadata": {},
   "outputs": [],
   "source": [
    "data.to_csv(\"data-laporan-preprocessed.csv\", index=False)"
   ]
  },
  {
   "cell_type": "code",
   "execution_count": null,
   "id": "17f9a5ff",
   "metadata": {},
   "outputs": [],
   "source": []
  }
 ],
 "metadata": {
  "kernelspec": {
   "display_name": "Python 3",
   "language": "python",
   "name": "python3"
  },
  "language_info": {
   "codemirror_mode": {
    "name": "ipython",
    "version": 3
   },
   "file_extension": ".py",
   "mimetype": "text/x-python",
   "name": "python",
   "nbconvert_exporter": "python",
   "pygments_lexer": "ipython3",
   "version": "3.10.14"
  }
 },
 "nbformat": 4,
 "nbformat_minor": 5
}
