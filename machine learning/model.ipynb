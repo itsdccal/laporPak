{
  "cells": [
    {
      "cell_type": "markdown",
      "metadata": {
        "id": "258S3Snotjoe"
      },
      "source": [
        "# 1. Import Modul"
      ]
    },
    {
      "cell_type": "code",
      "execution_count": 1,
      "metadata": {
        "colab": {
          "base_uri": "https://localhost:8080/"
        },
        "id": "-PwZ7v5GBym3",
        "outputId": "b3356bd3-ea25-4bb4-e629-d30f263055ef"
      },
      "outputs": [
        {
          "name": "stdout",
          "output_type": "stream",
          "text": [
            "Drive already mounted at /content/drive; to attempt to forcibly remount, call drive.mount(\"/content/drive\", force_remount=True).\n"
          ]
        }
      ],
      "source": [
        "from google.colab import drive\n",
        "drive.mount('/content/drive')"
      ]
    },
    {
      "cell_type": "code",
      "execution_count": 1,
      "metadata": {
        "id": "mM4616XJdyUk"
      },
      "outputs": [],
      "source": [
        "import os\n",
        "os.environ[\"TF_USE_LEGACY_KERAS\"] = \"1\""
      ]
    },
    {
      "cell_type": "code",
      "execution_count": 2,
      "metadata": {
        "id": "2QOjSTGMB6Zy"
      },
      "outputs": [],
      "source": [
        "import numpy as np\n",
        "import pandas as pd\n",
        "import matplotlib.pyplot as plt\n",
        "import seaborn as sns\n",
        "import warnings\n",
        "import re\n",
        "import joblib\n",
        "\n",
        "\n",
        "from sklearn.model_selection import train_test_split\n",
        "from sklearn.preprocessing import LabelEncoder\n",
        "from sklearn.metrics import classification_report, confusion_matrix\n",
        "\n",
        "import tensorflow as tf\n",
        "from transformers import TFBertForSequenceClassification, BertTokenizer\n",
        "from tensorflow.keras.callbacks import ModelCheckpoint, EarlyStopping, ReduceLROnPlateau\n",
        "from tensorflow.keras.optimizers import Adam\n",
        "\n",
        "# import tensorflowjs as tfjs"
      ]
    },
    {
      "cell_type": "markdown",
      "metadata": {
        "id": "dMrZv0OGtnKd"
      },
      "source": [
        "# 2. Load Data"
      ]
    },
    {
      "cell_type": "code",
      "execution_count": null,
      "metadata": {
        "colab": {
          "base_uri": "https://localhost:8080/",
          "height": 424
        },
        "id": "oaPjt0IiCfGK",
        "outputId": "516b297d-0ab2-40a7-a4d0-53a2c9eba7c8"
      },
      "outputs": [
        {
          "data": {
            "application/vnd.google.colaboratory.intrinsic+json": {
              "summary": "{\n  \"name\": \"data\",\n  \"rows\": 716,\n  \"fields\": [\n    {\n      \"column\": \"tgl-laporan\",\n      \"properties\": {\n        \"dtype\": \"string\",\n        \"num_unique_values\": 488,\n        \"samples\": [\n          \"30 Apr, 9:47\",\n          \"12 Agu 2024, 02:42\",\n          \"3 Feb, 3:48\"\n        ],\n        \"semantic_type\": \"\",\n        \"description\": \"\"\n      }\n    },\n    {\n      \"column\": \"title\",\n      \"properties\": {\n        \"dtype\": \"category\",\n        \"num_unique_values\": 329,\n        \"samples\": [\n          \"ular di kandang ayam\",\n          \"Kebakaran Konsleting Listrik\",\n          \"Kebakaran Regulator Tabung Elpiji\"\n        ],\n        \"semantic_type\": \"\",\n        \"description\": \"\"\n      }\n    },\n    {\n      \"column\": \"link\",\n      \"properties\": {\n        \"dtype\": \"string\",\n        \"num_unique_values\": 713,\n        \"samples\": [\n          \"https://www.lapor.go.id/laporan/detil/kebakaran-di-kios-milik-warga-di-pasar-202503201438231742456303591\",\n          \"https://www.lapor.go.id/laporan/detil/sarang-tawon-yang-mengganggu-202408210844521724204692793\",\n          \"https://www.lapor.go.id/laporan/detil/ular-diatas-plafon-202504301429561745998196096\"\n        ],\n        \"semantic_type\": \"\",\n        \"description\": \"\"\n      }\n    },\n    {\n      \"column\": \"content\",\n      \"properties\": {\n        \"dtype\": \"string\",\n        \"num_unique_values\": 710,\n        \"samples\": [\n          \"mohon bantuan evakuasi sarang tawon salah rumah warga desa brangkal kec . parengan\",\n          \"laporan permohonan evakuasi ular koros ular kayu warga desa sadang kecamatan jatirogo rumah miliknya\",\n          \"inawati warga pluit . jokowi bantuan wilayah pluit air genangan wilayah muarakarang air surut kering pluit air . jokowi tolong bantuannya . terima kasih jokowi .\"\n        ],\n        \"semantic_type\": \"\",\n        \"description\": \"\"\n      }\n    },\n    {\n      \"column\": \"jenis_laporan\",\n      \"properties\": {\n        \"dtype\": \"category\",\n        \"num_unique_values\": 4,\n        \"samples\": [\n          \"Penyelamatan Non Hewan & Bantuan Teknis\",\n          \"Layanan Lingkungan & Fasilitas Umum\",\n          \"Evakuasi/Penyelamatan Hewan\"\n        ],\n        \"semantic_type\": \"\",\n        \"description\": \"\"\n      }\n    },\n    {\n      \"column\": \"tingkat_bahaya\",\n      \"properties\": {\n        \"dtype\": \"category\",\n        \"num_unique_values\": 3,\n        \"samples\": [\n          \"Bahaya Rendah\",\n          \"Bahaya Tinggi\",\n          \"Bahaya Sedang\"\n        ],\n        \"semantic_type\": \"\",\n        \"description\": \"\"\n      }\n    },\n    {\n      \"column\": \"tingkat_urgensi\",\n      \"properties\": {\n        \"dtype\": \"category\",\n        \"num_unique_values\": 3,\n        \"samples\": [\n          \"menengah\",\n          \"rendah\",\n          \"urgent\"\n        ],\n        \"semantic_type\": \"\",\n        \"description\": \"\"\n      }\n    }\n  ]\n}",
              "type": "dataframe",
              "variable_name": "data"
            },
            "text/html": [
              "\n",
              "  <div id=\"df-88913a39-e0e2-4ae1-be9d-ae102fc1e3d0\" class=\"colab-df-container\">\n",
              "    <div>\n",
              "<style scoped>\n",
              "    .dataframe tbody tr th:only-of-type {\n",
              "        vertical-align: middle;\n",
              "    }\n",
              "\n",
              "    .dataframe tbody tr th {\n",
              "        vertical-align: top;\n",
              "    }\n",
              "\n",
              "    .dataframe thead th {\n",
              "        text-align: right;\n",
              "    }\n",
              "</style>\n",
              "<table border=\"1\" class=\"dataframe\">\n",
              "  <thead>\n",
              "    <tr style=\"text-align: right;\">\n",
              "      <th></th>\n",
              "      <th>tgl-laporan</th>\n",
              "      <th>title</th>\n",
              "      <th>link</th>\n",
              "      <th>content</th>\n",
              "      <th>jenis_laporan</th>\n",
              "      <th>tingkat_bahaya</th>\n",
              "      <th>tingkat_urgensi</th>\n",
              "    </tr>\n",
              "  </thead>\n",
              "  <tbody>\n",
              "    <tr>\n",
              "      <th>0</th>\n",
              "      <td>Jumat, 08:23</td>\n",
              "      <td>Evakuasi Tawon</td>\n",
              "      <td>https://www.lapor.go.id/laporan/detil/evakuasi...</td>\n",
              "      <td>pernohonan evakuasi tawon atap rumah salah rum...</td>\n",
              "      <td>Evakuasi/Penyelamatan Hewan</td>\n",
              "      <td>Bahaya Rendah</td>\n",
              "      <td>menengah</td>\n",
              "    </tr>\n",
              "    <tr>\n",
              "      <th>1</th>\n",
              "      <td>Jumat, 08:20</td>\n",
              "      <td>ular masuk dapur</td>\n",
              "      <td>https://www.lapor.go.id/laporan/detil/ular-mas...</td>\n",
              "      <td>laporan salah warga kelurahan mondokan kecamat...</td>\n",
              "      <td>Evakuasi/Penyelamatan Hewan</td>\n",
              "      <td>Bahaya Rendah</td>\n",
              "      <td>menengah</td>\n",
              "    </tr>\n",
              "    <tr>\n",
              "      <th>2</th>\n",
              "      <td>Jumat, 08:18</td>\n",
              "      <td>ular masuk rumah</td>\n",
              "      <td>https://www.lapor.go.id/laporan/detil/ular-mas...</td>\n",
              "      <td>laporan salah warga kelurahan ronggomulyo keca...</td>\n",
              "      <td>Evakuasi/Penyelamatan Hewan</td>\n",
              "      <td>Bahaya Rendah</td>\n",
              "      <td>menengah</td>\n",
              "    </tr>\n",
              "    <tr>\n",
              "      <th>3</th>\n",
              "      <td>Jumat, 08:15</td>\n",
              "      <td>Kunci tertinggal di dalam mobil</td>\n",
              "      <td>https://www.lapor.go.id/laporan/detil/kunci-te...</td>\n",
              "      <td>laporan salah warga desa tunah kecamatan seman...</td>\n",
              "      <td>Penyelamatan Non Hewan &amp; Bantuan Teknis</td>\n",
              "      <td>Bahaya Rendah</td>\n",
              "      <td>rendah</td>\n",
              "    </tr>\n",
              "    <tr>\n",
              "      <th>4</th>\n",
              "      <td>Jumat, 08:12</td>\n",
              "      <td>Evakuasi Ular Sawo Kembang</td>\n",
              "      <td>https://www.lapor.go.id/laporan/detil/evakuasi...</td>\n",
              "      <td>laporan permohonan evakuasi ular sowo kembang ...</td>\n",
              "      <td>Evakuasi/Penyelamatan Hewan</td>\n",
              "      <td>Bahaya Rendah</td>\n",
              "      <td>menengah</td>\n",
              "    </tr>\n",
              "    <tr>\n",
              "      <th>...</th>\n",
              "      <td>...</td>\n",
              "      <td>...</td>\n",
              "      <td>...</td>\n",
              "      <td>...</td>\n",
              "      <td>...</td>\n",
              "      <td>...</td>\n",
              "      <td>...</td>\n",
              "    </tr>\n",
              "    <tr>\n",
              "      <th>711</th>\n",
              "      <td>1/8/2025 0:00</td>\n",
              "      <td>Bantuan Untuk kelurahan pejagalan, Penjaringan...</td>\n",
              "      <td>https://www.lapor.go.id/laporan/detil/bantuan-...</td>\n",
              "      <td>tolong bantu bantuan kelurahan pejagalan , kec...</td>\n",
              "      <td>Layanan Lingkungan &amp; Fasilitas Umum</td>\n",
              "      <td>Bahaya Rendah</td>\n",
              "      <td>rendah</td>\n",
              "    </tr>\n",
              "    <tr>\n",
              "      <th>712</th>\n",
              "      <td>1/8/2025 0:00</td>\n",
              "      <td>Permohonan Bantuan Penanganan Banjir</td>\n",
              "      <td>https://www.lapor.go.id/laporan/detil/permohon...</td>\n",
              "      <td>selamat pagi dinas penanggulangan bencana daer...</td>\n",
              "      <td>Layanan Lingkungan &amp; Fasilitas Umum</td>\n",
              "      <td>Bahaya Rendah</td>\n",
              "      <td>menengah</td>\n",
              "    </tr>\n",
              "    <tr>\n",
              "      <th>713</th>\n",
              "      <td>1/8/2025 0:00</td>\n",
              "      <td>Banjir Cideng Akibat Luapan Dari 2 Kali</td>\n",
              "      <td>https://www.lapor.go.id/laporan/detil/banjir-c...</td>\n",
              "      <td>selamat pagi . , air banjir cideng lambat suru...</td>\n",
              "      <td>Layanan Lingkungan &amp; Fasilitas Umum</td>\n",
              "      <td>Bahaya Rendah</td>\n",
              "      <td>menengah</td>\n",
              "    </tr>\n",
              "    <tr>\n",
              "      <th>714</th>\n",
              "      <td>1/8/2025 0:00</td>\n",
              "      <td>Permohonan Bantuan Penanganan Banjir</td>\n",
              "      <td>https://www.lapor.go.id/laporan/detil/permohon...</td>\n",
              "      <td>shalom , air banjir cideng lambat surut . kelu...</td>\n",
              "      <td>Layanan Lingkungan &amp; Fasilitas Umum</td>\n",
              "      <td>Bahaya Rendah</td>\n",
              "      <td>menengah</td>\n",
              "    </tr>\n",
              "    <tr>\n",
              "      <th>715</th>\n",
              "      <td>7 Jan 2019, 11:13</td>\n",
              "      <td>banjir di wilayah kelurahan kapuk</td>\n",
              "      <td>https://www.lapor.go.id/laporan/detil/banjir-d...</td>\n",
              "      <td>terhormat wakil gubernur daerah khusus ibukota...</td>\n",
              "      <td>Layanan Lingkungan &amp; Fasilitas Umum</td>\n",
              "      <td>Bahaya Rendah</td>\n",
              "      <td>menengah</td>\n",
              "    </tr>\n",
              "  </tbody>\n",
              "</table>\n",
              "<p>716 rows × 7 columns</p>\n",
              "</div>\n",
              "    <div class=\"colab-df-buttons\">\n",
              "\n",
              "  <div class=\"colab-df-container\">\n",
              "    <button class=\"colab-df-convert\" onclick=\"convertToInteractive('df-88913a39-e0e2-4ae1-be9d-ae102fc1e3d0')\"\n",
              "            title=\"Convert this dataframe to an interactive table.\"\n",
              "            style=\"display:none;\">\n",
              "\n",
              "  <svg xmlns=\"http://www.w3.org/2000/svg\" height=\"24px\" viewBox=\"0 -960 960 960\">\n",
              "    <path d=\"M120-120v-720h720v720H120Zm60-500h600v-160H180v160Zm220 220h160v-160H400v160Zm0 220h160v-160H400v160ZM180-400h160v-160H180v160Zm440 0h160v-160H620v160ZM180-180h160v-160H180v160Zm440 0h160v-160H620v160Z\"/>\n",
              "  </svg>\n",
              "    </button>\n",
              "\n",
              "  <style>\n",
              "    .colab-df-container {\n",
              "      display:flex;\n",
              "      gap: 12px;\n",
              "    }\n",
              "\n",
              "    .colab-df-convert {\n",
              "      background-color: #E8F0FE;\n",
              "      border: none;\n",
              "      border-radius: 50%;\n",
              "      cursor: pointer;\n",
              "      display: none;\n",
              "      fill: #1967D2;\n",
              "      height: 32px;\n",
              "      padding: 0 0 0 0;\n",
              "      width: 32px;\n",
              "    }\n",
              "\n",
              "    .colab-df-convert:hover {\n",
              "      background-color: #E2EBFA;\n",
              "      box-shadow: 0px 1px 2px rgba(60, 64, 67, 0.3), 0px 1px 3px 1px rgba(60, 64, 67, 0.15);\n",
              "      fill: #174EA6;\n",
              "    }\n",
              "\n",
              "    .colab-df-buttons div {\n",
              "      margin-bottom: 4px;\n",
              "    }\n",
              "\n",
              "    [theme=dark] .colab-df-convert {\n",
              "      background-color: #3B4455;\n",
              "      fill: #D2E3FC;\n",
              "    }\n",
              "\n",
              "    [theme=dark] .colab-df-convert:hover {\n",
              "      background-color: #434B5C;\n",
              "      box-shadow: 0px 1px 3px 1px rgba(0, 0, 0, 0.15);\n",
              "      filter: drop-shadow(0px 1px 2px rgba(0, 0, 0, 0.3));\n",
              "      fill: #FFFFFF;\n",
              "    }\n",
              "  </style>\n",
              "\n",
              "    <script>\n",
              "      const buttonEl =\n",
              "        document.querySelector('#df-88913a39-e0e2-4ae1-be9d-ae102fc1e3d0 button.colab-df-convert');\n",
              "      buttonEl.style.display =\n",
              "        google.colab.kernel.accessAllowed ? 'block' : 'none';\n",
              "\n",
              "      async function convertToInteractive(key) {\n",
              "        const element = document.querySelector('#df-88913a39-e0e2-4ae1-be9d-ae102fc1e3d0');\n",
              "        const dataTable =\n",
              "          await google.colab.kernel.invokeFunction('convertToInteractive',\n",
              "                                                    [key], {});\n",
              "        if (!dataTable) return;\n",
              "\n",
              "        const docLinkHtml = 'Like what you see? Visit the ' +\n",
              "          '<a target=\"_blank\" href=https://colab.research.google.com/notebooks/data_table.ipynb>data table notebook</a>'\n",
              "          + ' to learn more about interactive tables.';\n",
              "        element.innerHTML = '';\n",
              "        dataTable['output_type'] = 'display_data';\n",
              "        await google.colab.output.renderOutput(dataTable, element);\n",
              "        const docLink = document.createElement('div');\n",
              "        docLink.innerHTML = docLinkHtml;\n",
              "        element.appendChild(docLink);\n",
              "      }\n",
              "    </script>\n",
              "  </div>\n",
              "\n",
              "\n",
              "    <div id=\"df-f42ab972-2292-4ff8-aadb-6884d04b2844\">\n",
              "      <button class=\"colab-df-quickchart\" onclick=\"quickchart('df-f42ab972-2292-4ff8-aadb-6884d04b2844')\"\n",
              "                title=\"Suggest charts\"\n",
              "                style=\"display:none;\">\n",
              "\n",
              "<svg xmlns=\"http://www.w3.org/2000/svg\" height=\"24px\"viewBox=\"0 0 24 24\"\n",
              "     width=\"24px\">\n",
              "    <g>\n",
              "        <path d=\"M19 3H5c-1.1 0-2 .9-2 2v14c0 1.1.9 2 2 2h14c1.1 0 2-.9 2-2V5c0-1.1-.9-2-2-2zM9 17H7v-7h2v7zm4 0h-2V7h2v10zm4 0h-2v-4h2v4z\"/>\n",
              "    </g>\n",
              "</svg>\n",
              "      </button>\n",
              "\n",
              "<style>\n",
              "  .colab-df-quickchart {\n",
              "      --bg-color: #E8F0FE;\n",
              "      --fill-color: #1967D2;\n",
              "      --hover-bg-color: #E2EBFA;\n",
              "      --hover-fill-color: #174EA6;\n",
              "      --disabled-fill-color: #AAA;\n",
              "      --disabled-bg-color: #DDD;\n",
              "  }\n",
              "\n",
              "  [theme=dark] .colab-df-quickchart {\n",
              "      --bg-color: #3B4455;\n",
              "      --fill-color: #D2E3FC;\n",
              "      --hover-bg-color: #434B5C;\n",
              "      --hover-fill-color: #FFFFFF;\n",
              "      --disabled-bg-color: #3B4455;\n",
              "      --disabled-fill-color: #666;\n",
              "  }\n",
              "\n",
              "  .colab-df-quickchart {\n",
              "    background-color: var(--bg-color);\n",
              "    border: none;\n",
              "    border-radius: 50%;\n",
              "    cursor: pointer;\n",
              "    display: none;\n",
              "    fill: var(--fill-color);\n",
              "    height: 32px;\n",
              "    padding: 0;\n",
              "    width: 32px;\n",
              "  }\n",
              "\n",
              "  .colab-df-quickchart:hover {\n",
              "    background-color: var(--hover-bg-color);\n",
              "    box-shadow: 0 1px 2px rgba(60, 64, 67, 0.3), 0 1px 3px 1px rgba(60, 64, 67, 0.15);\n",
              "    fill: var(--button-hover-fill-color);\n",
              "  }\n",
              "\n",
              "  .colab-df-quickchart-complete:disabled,\n",
              "  .colab-df-quickchart-complete:disabled:hover {\n",
              "    background-color: var(--disabled-bg-color);\n",
              "    fill: var(--disabled-fill-color);\n",
              "    box-shadow: none;\n",
              "  }\n",
              "\n",
              "  .colab-df-spinner {\n",
              "    border: 2px solid var(--fill-color);\n",
              "    border-color: transparent;\n",
              "    border-bottom-color: var(--fill-color);\n",
              "    animation:\n",
              "      spin 1s steps(1) infinite;\n",
              "  }\n",
              "\n",
              "  @keyframes spin {\n",
              "    0% {\n",
              "      border-color: transparent;\n",
              "      border-bottom-color: var(--fill-color);\n",
              "      border-left-color: var(--fill-color);\n",
              "    }\n",
              "    20% {\n",
              "      border-color: transparent;\n",
              "      border-left-color: var(--fill-color);\n",
              "      border-top-color: var(--fill-color);\n",
              "    }\n",
              "    30% {\n",
              "      border-color: transparent;\n",
              "      border-left-color: var(--fill-color);\n",
              "      border-top-color: var(--fill-color);\n",
              "      border-right-color: var(--fill-color);\n",
              "    }\n",
              "    40% {\n",
              "      border-color: transparent;\n",
              "      border-right-color: var(--fill-color);\n",
              "      border-top-color: var(--fill-color);\n",
              "    }\n",
              "    60% {\n",
              "      border-color: transparent;\n",
              "      border-right-color: var(--fill-color);\n",
              "    }\n",
              "    80% {\n",
              "      border-color: transparent;\n",
              "      border-right-color: var(--fill-color);\n",
              "      border-bottom-color: var(--fill-color);\n",
              "    }\n",
              "    90% {\n",
              "      border-color: transparent;\n",
              "      border-bottom-color: var(--fill-color);\n",
              "    }\n",
              "  }\n",
              "</style>\n",
              "\n",
              "      <script>\n",
              "        async function quickchart(key) {\n",
              "          const quickchartButtonEl =\n",
              "            document.querySelector('#' + key + ' button');\n",
              "          quickchartButtonEl.disabled = true;  // To prevent multiple clicks.\n",
              "          quickchartButtonEl.classList.add('colab-df-spinner');\n",
              "          try {\n",
              "            const charts = await google.colab.kernel.invokeFunction(\n",
              "                'suggestCharts', [key], {});\n",
              "          } catch (error) {\n",
              "            console.error('Error during call to suggestCharts:', error);\n",
              "          }\n",
              "          quickchartButtonEl.classList.remove('colab-df-spinner');\n",
              "          quickchartButtonEl.classList.add('colab-df-quickchart-complete');\n",
              "        }\n",
              "        (() => {\n",
              "          let quickchartButtonEl =\n",
              "            document.querySelector('#df-f42ab972-2292-4ff8-aadb-6884d04b2844 button');\n",
              "          quickchartButtonEl.style.display =\n",
              "            google.colab.kernel.accessAllowed ? 'block' : 'none';\n",
              "        })();\n",
              "      </script>\n",
              "    </div>\n",
              "\n",
              "  <div id=\"id_ef74a282-ef45-43cc-8e2e-c861473e9dd5\">\n",
              "    <style>\n",
              "      .colab-df-generate {\n",
              "        background-color: #E8F0FE;\n",
              "        border: none;\n",
              "        border-radius: 50%;\n",
              "        cursor: pointer;\n",
              "        display: none;\n",
              "        fill: #1967D2;\n",
              "        height: 32px;\n",
              "        padding: 0 0 0 0;\n",
              "        width: 32px;\n",
              "      }\n",
              "\n",
              "      .colab-df-generate:hover {\n",
              "        background-color: #E2EBFA;\n",
              "        box-shadow: 0px 1px 2px rgba(60, 64, 67, 0.3), 0px 1px 3px 1px rgba(60, 64, 67, 0.15);\n",
              "        fill: #174EA6;\n",
              "      }\n",
              "\n",
              "      [theme=dark] .colab-df-generate {\n",
              "        background-color: #3B4455;\n",
              "        fill: #D2E3FC;\n",
              "      }\n",
              "\n",
              "      [theme=dark] .colab-df-generate:hover {\n",
              "        background-color: #434B5C;\n",
              "        box-shadow: 0px 1px 3px 1px rgba(0, 0, 0, 0.15);\n",
              "        filter: drop-shadow(0px 1px 2px rgba(0, 0, 0, 0.3));\n",
              "        fill: #FFFFFF;\n",
              "      }\n",
              "    </style>\n",
              "    <button class=\"colab-df-generate\" onclick=\"generateWithVariable('data')\"\n",
              "            title=\"Generate code using this dataframe.\"\n",
              "            style=\"display:none;\">\n",
              "\n",
              "  <svg xmlns=\"http://www.w3.org/2000/svg\" height=\"24px\"viewBox=\"0 0 24 24\"\n",
              "       width=\"24px\">\n",
              "    <path d=\"M7,19H8.4L18.45,9,17,7.55,7,17.6ZM5,21V16.75L18.45,3.32a2,2,0,0,1,2.83,0l1.4,1.43a1.91,1.91,0,0,1,.58,1.4,1.91,1.91,0,0,1-.58,1.4L9.25,21ZM18.45,9,17,7.55Zm-12,3A5.31,5.31,0,0,0,4.9,8.1,5.31,5.31,0,0,0,1,6.5,5.31,5.31,0,0,0,4.9,4.9,5.31,5.31,0,0,0,6.5,1,5.31,5.31,0,0,0,8.1,4.9,5.31,5.31,0,0,0,12,6.5,5.46,5.46,0,0,0,6.5,12Z\"/>\n",
              "  </svg>\n",
              "    </button>\n",
              "    <script>\n",
              "      (() => {\n",
              "      const buttonEl =\n",
              "        document.querySelector('#id_ef74a282-ef45-43cc-8e2e-c861473e9dd5 button.colab-df-generate');\n",
              "      buttonEl.style.display =\n",
              "        google.colab.kernel.accessAllowed ? 'block' : 'none';\n",
              "\n",
              "      buttonEl.onclick = () => {\n",
              "        google.colab.notebook.generateWithVariable('data');\n",
              "      }\n",
              "      })();\n",
              "    </script>\n",
              "  </div>\n",
              "\n",
              "    </div>\n",
              "  </div>\n"
            ],
            "text/plain": [
              "           tgl-laporan                                              title  \\\n",
              "0         Jumat, 08:23                                     Evakuasi Tawon   \n",
              "1         Jumat, 08:20                                   ular masuk dapur   \n",
              "2         Jumat, 08:18                                   ular masuk rumah   \n",
              "3         Jumat, 08:15                    Kunci tertinggal di dalam mobil   \n",
              "4         Jumat, 08:12                         Evakuasi Ular Sawo Kembang   \n",
              "..                 ...                                                ...   \n",
              "711      1/8/2025 0:00  Bantuan Untuk kelurahan pejagalan, Penjaringan...   \n",
              "712      1/8/2025 0:00               Permohonan Bantuan Penanganan Banjir   \n",
              "713      1/8/2025 0:00            Banjir Cideng Akibat Luapan Dari 2 Kali   \n",
              "714      1/8/2025 0:00               Permohonan Bantuan Penanganan Banjir   \n",
              "715  7 Jan 2019, 11:13                  banjir di wilayah kelurahan kapuk   \n",
              "\n",
              "                                                  link  \\\n",
              "0    https://www.lapor.go.id/laporan/detil/evakuasi...   \n",
              "1    https://www.lapor.go.id/laporan/detil/ular-mas...   \n",
              "2    https://www.lapor.go.id/laporan/detil/ular-mas...   \n",
              "3    https://www.lapor.go.id/laporan/detil/kunci-te...   \n",
              "4    https://www.lapor.go.id/laporan/detil/evakuasi...   \n",
              "..                                                 ...   \n",
              "711  https://www.lapor.go.id/laporan/detil/bantuan-...   \n",
              "712  https://www.lapor.go.id/laporan/detil/permohon...   \n",
              "713  https://www.lapor.go.id/laporan/detil/banjir-c...   \n",
              "714  https://www.lapor.go.id/laporan/detil/permohon...   \n",
              "715  https://www.lapor.go.id/laporan/detil/banjir-d...   \n",
              "\n",
              "                                               content  \\\n",
              "0    pernohonan evakuasi tawon atap rumah salah rum...   \n",
              "1    laporan salah warga kelurahan mondokan kecamat...   \n",
              "2    laporan salah warga kelurahan ronggomulyo keca...   \n",
              "3    laporan salah warga desa tunah kecamatan seman...   \n",
              "4    laporan permohonan evakuasi ular sowo kembang ...   \n",
              "..                                                 ...   \n",
              "711  tolong bantu bantuan kelurahan pejagalan , kec...   \n",
              "712  selamat pagi dinas penanggulangan bencana daer...   \n",
              "713  selamat pagi . , air banjir cideng lambat suru...   \n",
              "714  shalom , air banjir cideng lambat surut . kelu...   \n",
              "715  terhormat wakil gubernur daerah khusus ibukota...   \n",
              "\n",
              "                               jenis_laporan tingkat_bahaya tingkat_urgensi  \n",
              "0                Evakuasi/Penyelamatan Hewan  Bahaya Rendah        menengah  \n",
              "1                Evakuasi/Penyelamatan Hewan  Bahaya Rendah        menengah  \n",
              "2                Evakuasi/Penyelamatan Hewan  Bahaya Rendah        menengah  \n",
              "3    Penyelamatan Non Hewan & Bantuan Teknis  Bahaya Rendah          rendah  \n",
              "4                Evakuasi/Penyelamatan Hewan  Bahaya Rendah        menengah  \n",
              "..                                       ...            ...             ...  \n",
              "711      Layanan Lingkungan & Fasilitas Umum  Bahaya Rendah          rendah  \n",
              "712      Layanan Lingkungan & Fasilitas Umum  Bahaya Rendah        menengah  \n",
              "713      Layanan Lingkungan & Fasilitas Umum  Bahaya Rendah        menengah  \n",
              "714      Layanan Lingkungan & Fasilitas Umum  Bahaya Rendah        menengah  \n",
              "715      Layanan Lingkungan & Fasilitas Umum  Bahaya Rendah        menengah  \n",
              "\n",
              "[716 rows x 7 columns]"
            ]
          },
          "execution_count": 30,
          "metadata": {},
          "output_type": "execute_result"
        }
      ],
      "source": [
        "data = pd.read_csv(\"data-preprocessed-berlabel-fix.csv\")\n",
        "data"
      ]
    },
    {
      "cell_type": "code",
      "execution_count": 31,
      "metadata": {
        "id": "bmtCqYwSnOks"
      },
      "outputs": [],
      "source": [
        "data.dropna(inplace=True)"
      ]
    },
    {
      "cell_type": "code",
      "execution_count": 33,
      "metadata": {
        "id": "5LaU7UCHCxS5"
      },
      "outputs": [],
      "source": [
        "X_train, X_test, y_train, y_test = train_test_split(data['content'], data['jenis_laporan'], test_size=0.2, random_state=42)"
      ]
    },
    {
      "cell_type": "markdown",
      "metadata": {
        "id": "wfI_nJrttuGm"
      },
      "source": [
        "# 3. Load Pretrained Model"
      ]
    },
    {
      "cell_type": "code",
      "execution_count": 34,
      "metadata": {
        "colab": {
          "base_uri": "https://localhost:8080/"
        },
        "id": "r23FUk_4DQRB",
        "outputId": "f0ad6020-0ceb-44d6-93a2-db9950e3d2d8"
      },
      "outputs": [
        {
          "name": "stderr",
          "output_type": "stream",
          "text": [
            "All model checkpoint layers were used when initializing TFBertForSequenceClassification.\n",
            "\n",
            "Some layers of TFBertForSequenceClassification were not initialized from the model checkpoint at indobenchmark/indobert-base-p1 and are newly initialized: ['classifier']\n",
            "You should probably TRAIN this model on a down-stream task to be able to use it for predictions and inference.\n"
          ]
        }
      ],
      "source": [
        "tokenizer = BertTokenizer.from_pretrained('indobenchmark/indobert-base-p1')\n",
        "model = TFBertForSequenceClassification.from_pretrained('indobenchmark/indobert-base-p1', num_labels=len(data['jenis_laporan'].unique()))"
      ]
    },
    {
      "cell_type": "markdown",
      "metadata": {
        "id": "n6K-wB9Vty-2"
      },
      "source": [
        "# 4. Data Encoding & Konfigurasi Model"
      ]
    },
    {
      "cell_type": "code",
      "execution_count": 35,
      "metadata": {
        "id": "5y1hSkIzDquR"
      },
      "outputs": [],
      "source": [
        "# Encode labels\n",
        "label_encoder = LabelEncoder()\n",
        "y_train_encoded = label_encoder.fit_transform(y_train)\n",
        "y_test_encoded = label_encoder.transform(y_test)\n",
        "\n",
        "# Prepare data for BERT\n",
        "def encode_data(tokenizer, texts, max_len=128):\n",
        "    return tokenizer(\n",
        "        list(texts),\n",
        "        add_special_tokens=True,\n",
        "        max_length=max_len,\n",
        "        padding='max_length',\n",
        "        truncation=True,\n",
        "        return_attention_mask=True,\n",
        "        return_token_type_ids=True,\n",
        "        return_tensors='tf'\n",
        "    )\n",
        "\n",
        "X_train_encoded = encode_data(tokenizer, X_train)\n",
        "X_test_encoded = encode_data(tokenizer, X_test)"
      ]
    },
    {
      "cell_type": "code",
      "execution_count": 36,
      "metadata": {
        "colab": {
          "base_uri": "https://localhost:8080/"
        },
        "id": "ZQN-Pku_vnk2",
        "outputId": "7bd1c94a-bd66-451c-83ed-0391cf657056"
      },
      "outputs": [
        {
          "data": {
            "text/plain": [
              "['/content/drive/MyDrive/Coding_Camp/Capstone_Project/label_encoder.pkl']"
            ]
          },
          "execution_count": 36,
          "metadata": {},
          "output_type": "execute_result"
        }
      ],
      "source": [
        "joblib.dump(label_encoder, '/content/drive/MyDrive/Coding_Camp/Capstone_Project/label_encoder.pkl')"
      ]
    },
    {
      "cell_type": "code",
      "execution_count": 37,
      "metadata": {
        "id": "jhXXz8mSDvZ_"
      },
      "outputs": [],
      "source": [
        "from tensorflow.keras.optimizers import Adam\n",
        "\n",
        "optimizer = Adam(learning_rate=2e-5, epsilon=1e-08)\n",
        "loss = tf.keras.losses.SparseCategoricalCrossentropy(from_logits=True)\n",
        "metric = tf.keras.metrics.SparseCategoricalAccuracy(name='accuracy')\n",
        "\n",
        "model.compile(optimizer=optimizer, loss=loss, metrics=[metric])"
      ]
    },
    {
      "cell_type": "markdown",
      "metadata": {
        "id": "ap-EsmjJuJ_t"
      },
      "source": [
        "# 5. Train Model"
      ]
    },
    {
      "cell_type": "code",
      "execution_count": 39,
      "metadata": {
        "colab": {
          "base_uri": "https://localhost:8080/"
        },
        "id": "BIDgRuXoDAHI",
        "outputId": "99e094e5-c822-4249-c31b-f132c94d8ca2"
      },
      "outputs": [
        {
          "name": "stdout",
          "output_type": "stream",
          "text": [
            "Epoch 1/15\n",
            "18/18 [==============================] - 61s 1s/step - loss: 1.0447 - accuracy: 0.5632 - val_loss: 0.6085 - val_accuracy: 0.9021\n",
            "Epoch 2/15\n",
            "18/18 [==============================] - 15s 824ms/step - loss: 0.3927 - accuracy: 0.9105 - val_loss: 0.1932 - val_accuracy: 0.9301\n",
            "Epoch 3/15\n",
            "18/18 [==============================] - 15s 828ms/step - loss: 0.1499 - accuracy: 0.9561 - val_loss: 0.1103 - val_accuracy: 0.9720\n",
            "Epoch 4/15\n",
            "18/18 [==============================] - 15s 835ms/step - loss: 0.0794 - accuracy: 0.9807 - val_loss: 0.1043 - val_accuracy: 0.9790\n",
            "Epoch 5/15\n",
            "18/18 [==============================] - 15s 850ms/step - loss: 0.0369 - accuracy: 0.9947 - val_loss: 0.1166 - val_accuracy: 0.9790\n",
            "Epoch 6/15\n",
            "18/18 [==============================] - 15s 860ms/step - loss: 0.0241 - accuracy: 0.9947 - val_loss: 0.1385 - val_accuracy: 0.9650\n",
            "Epoch 7/15\n",
            "18/18 [==============================] - 15s 859ms/step - loss: 0.0115 - accuracy: 1.0000 - val_loss: 0.1442 - val_accuracy: 0.9650\n",
            "Epoch 8/15\n",
            "18/18 [==============================] - 15s 859ms/step - loss: 0.0076 - accuracy: 1.0000 - val_loss: 0.1589 - val_accuracy: 0.9650\n",
            "Epoch 9/15\n",
            "18/18 [==============================] - 15s 864ms/step - loss: 0.0063 - accuracy: 1.0000 - val_loss: 0.1623 - val_accuracy: 0.9650\n",
            "Epoch 10/15\n",
            "18/18 [==============================] - 16s 866ms/step - loss: 0.0053 - accuracy: 1.0000 - val_loss: 0.1671 - val_accuracy: 0.9650\n",
            "Epoch 11/15\n",
            "18/18 [==============================] - 16s 873ms/step - loss: 0.0047 - accuracy: 1.0000 - val_loss: 0.1713 - val_accuracy: 0.9650\n",
            "Epoch 12/15\n",
            "18/18 [==============================] - 16s 881ms/step - loss: 0.0044 - accuracy: 1.0000 - val_loss: 0.1768 - val_accuracy: 0.9650\n",
            "Epoch 13/15\n",
            "18/18 [==============================] - 16s 885ms/step - loss: 0.0039 - accuracy: 1.0000 - val_loss: 0.1763 - val_accuracy: 0.9650\n",
            "Epoch 14/15\n",
            "18/18 [==============================] - 16s 888ms/step - loss: 0.0035 - accuracy: 1.0000 - val_loss: 0.1780 - val_accuracy: 0.9650\n",
            "Epoch 15/15\n",
            "18/18 [==============================] - 16s 889ms/step - loss: 0.0032 - accuracy: 1.0000 - val_loss: 0.1811 - val_accuracy: 0.9650\n"
          ]
        }
      ],
      "source": [
        "# Train the model\n",
        "history = model.fit(\n",
        "    [X_train_encoded.input_ids, X_train_encoded.token_type_ids, X_train_encoded.attention_mask],\n",
        "    y_train_encoded,\n",
        "    validation_data=(\n",
        "        [X_test_encoded.input_ids, X_test_encoded.token_type_ids, X_test_encoded.attention_mask],\n",
        "        y_test_encoded\n",
        "    ),\n",
        "    epochs=15,\n",
        "    batch_size=32,\n",
        ")"
      ]
    },
    {
      "cell_type": "markdown",
      "metadata": {
        "id": "xjc_RmvmuNPq"
      },
      "source": [
        "# 6. Evaluasi"
      ]
    },
    {
      "cell_type": "code",
      "execution_count": 46,
      "metadata": {
        "colab": {
          "base_uri": "https://localhost:8080/"
        },
        "id": "kSfMK9Y6LxA-",
        "outputId": "6d5769d5-fbe8-4dff-9461-ca9207904fb3"
      },
      "outputs": [
        {
          "name": "stdout",
          "output_type": "stream",
          "text": [
            "5/5 [==============================] - 1s 222ms/step - loss: 0.1811 - accuracy: 0.9650\n",
            "Test Loss: 0.1811467409133911\n",
            "Test Accuracy: 0.9650349617004395\n",
            "5/5 [==============================] - 4s 221ms/step\n",
            "\n",
            "Classification Report:\n",
            "                                         precision    recall  f1-score   support\n",
            "\n",
            "            Evakuasi/Penyelamatan Hewan       1.00      1.00      1.00        71\n",
            "                              Kebakaran       1.00      0.97      0.99        37\n",
            "    Layanan Lingkungan & Fasilitas Umum       0.82      1.00      0.90        23\n",
            "Penyelamatan Non Hewan & Bantuan Teknis       1.00      0.67      0.80        12\n",
            "\n",
            "                               accuracy                           0.97       143\n",
            "                              macro avg       0.96      0.91      0.92       143\n",
            "                           weighted avg       0.97      0.97      0.96       143\n",
            "\n",
            "\n",
            "Confusion Matrix:\n",
            "[[71  0  0  0]\n",
            " [ 0 36  1  0]\n",
            " [ 0  0 23  0]\n",
            " [ 0  0  4  8]]\n"
          ]
        }
      ],
      "source": [
        "loss, accuracy = model.evaluate(\n",
        "    [X_test_encoded.input_ids, X_test_encoded.token_type_ids, X_test_encoded.attention_mask],\n",
        "    y_test_encoded\n",
        ")\n",
        "\n",
        "print(f\"Test Loss: {loss}\")\n",
        "print(f\"Test Accuracy: {accuracy}\")\n",
        "\n",
        "# Get predictions\n",
        "y_pred_logits = model.predict(\n",
        "    [X_test_encoded.input_ids, X_test_encoded.token_type_ids, X_test_encoded.attention_mask]\n",
        ").logits\n",
        "y_pred_encoded = np.argmax(y_pred_logits, axis=1)\n",
        "\n",
        "# Decode predictions and true labels\n",
        "y_pred = label_encoder.inverse_transform(y_pred_encoded)\n",
        "y_true = label_encoder.inverse_transform(y_test_encoded)\n",
        "\n",
        "# Print classification report and confusion matrix\n",
        "print(\"\\nClassification Report:\")\n",
        "print(classification_report(y_true, y_pred))\n",
        "\n",
        "print(\"\\nConfusion Matrix:\")\n",
        "print(confusion_matrix(y_true, y_pred))"
      ]
    },
    {
      "cell_type": "code",
      "execution_count": 47,
      "metadata": {
        "colab": {
          "base_uri": "https://localhost:8080/"
        },
        "id": "dxfpUpl8MiVg",
        "outputId": "4611300a-ee41-4d88-8d99-02e4e5227ec7"
      },
      "outputs": [
        {
          "name": "stdout",
          "output_type": "stream",
          "text": [
            "1/1 [==============================] - 0s 56ms/step\n",
            "The predicted category for the text 'ada kalajengking pak dalam rumah saya. lokasi jalan jeruk no.9' is: Penyelamatan Non Hewan & Bantuan Teknis\n",
            "1/1 [==============================] - 0s 53ms/step\n",
            "The predicted category for the text 'tolong pak kebakaran di jalan sudirman' is: Kebakaran\n",
            "1/1 [==============================] - 0s 55ms/step\n",
            "The predicted category for the text 'ada orang terjebak dalam lift yang rusak pak. lokasi gedung honda' is: Penyelamatan Non Hewan & Bantuan Teknis\n",
            "1/1 [==============================] - 0s 54ms/step\n",
            "The predicted category for the text 'tolong pak. ada orang mau bunuh diri lompat dari monas' is: Penyelamatan Non Hewan & Bantuan Teknis\n",
            "1/1 [==============================] - 0s 54ms/step\n",
            "The predicted category for the text 'ada ular kobra pak dirumah saya. alamat jalan mangga no.4' is: Evakuasi/Penyelamatan Hewan\n"
          ]
        }
      ],
      "source": [
        "# Example inference function\n",
        "def predict_label(text):\n",
        "    encoded_text = encode_data(tokenizer, [text])\n",
        "    pred_logits = model.predict(\n",
        "        [encoded_text.input_ids, encoded_text.token_type_ids, encoded_text.attention_mask]\n",
        "    ).logits\n",
        "    pred_encoded = np.argmax(pred_logits, axis=1)\n",
        "    predicted_label = label_encoder.inverse_transform(pred_encoded)\n",
        "    return predicted_label[0]\n",
        "\n",
        "## Example usage:\n",
        "sample_text = \"ada kalajengking pak dalam rumah saya. lokasi jalan jeruk no.9\"\n",
        "predicted_category = predict_label(sample_text)\n",
        "print(f\"The predicted category for the text '{sample_text}' is: {predicted_category}\")\n",
        "\n",
        "sample_text_2 = \"tolong pak kebakaran di jalan sudirman\"\n",
        "predicted_category_2 = predict_label(sample_text_2)\n",
        "print(f\"The predicted category for the text '{sample_text_2}' is: {predicted_category_2}\")\n",
        "\n",
        "sample_text_3 = \"ada orang terjebak dalam lift yang rusak pak. lokasi gedung honda\"\n",
        "predicted_category_3 = predict_label(sample_text_3)\n",
        "print(f\"The predicted category for the text '{sample_text_3}' is: {predicted_category_3}\")\n",
        "\n",
        "sample_text_4 = \"tolong pak. ada orang mau bunuh diri lompat dari monas\"\n",
        "predicted_category_4 = predict_label(sample_text_4)\n",
        "print(f\"The predicted category for the text '{sample_text_4}' is: {predicted_category_4}\")\n",
        "\n",
        "sample_text_5 = \"ada ular kobra pak dirumah saya. alamat jalan mangga no.4\"\n",
        "predicted_category_5 = predict_label(sample_text_5)\n",
        "print(f\"The predicted category for the text '{sample_text_5}' is: {predicted_category_5}\")"
      ]
    },
    {
      "cell_type": "markdown",
      "metadata": {
        "id": "h3TYg8HAuVkZ"
      },
      "source": [
        "# 7. Save Model"
      ]
    },
    {
      "cell_type": "code",
      "execution_count": 50,
      "metadata": {
        "id": "ByeAXzfpqEat"
      },
      "outputs": [],
      "source": [
        "# Dummy input untuk membangun model dengan sequence length 128\n",
        "dummy_input = {\n",
        "    \"input_ids\": tf.constant([[1]*128], dtype=tf.int32),\n",
        "    \"token_type_ids\": tf.constant([[0]*128], dtype=tf.int32),\n",
        "    \"attention_mask\": tf.constant([[1]*128], dtype=tf.int32)\n",
        "}\n",
        "\n",
        "# Panggil model untuk mengunci input shape\n",
        "_ = model(dummy_input)\n",
        "\n",
        "# Simpan ulang model dengan input shape tetap\n",
        "model.save(\"/content/drive/MyDrive/Coding_Camp/Capstone_Project/models/experiment3/saved_model\")"
      ]
    },
    {
      "cell_type": "code",
      "execution_count": 51,
      "metadata": {
        "colab": {
          "base_uri": "https://localhost:8080/"
        },
        "id": "fRS82hR3mLJ0",
        "outputId": "46aa1764-86ef-4f95-c30b-4d9067db726b"
      },
      "outputs": [
        {
          "name": "stdout",
          "output_type": "stream",
          "text": [
            "((), {'attention_mask': TensorSpec(shape=(None, None), dtype=tf.int32, name='attention_mask'), 'input_ids': TensorSpec(shape=(None, None), dtype=tf.int32, name='input_ids'), 'token_type_ids': TensorSpec(shape=(None, None), dtype=tf.int32, name='token_type_ids')})\n"
          ]
        }
      ],
      "source": [
        "loaded = tf.saved_model.load(\"/content/drive/MyDrive/Coding_Camp/Capstone_Project/models/experiment3/saved_model\")\n",
        "print(loaded.signatures[\"serving_default\"].structured_input_signature)"
      ]
    },
    {
      "cell_type": "code",
      "execution_count": 52,
      "metadata": {
        "id": "clWncTUOqpHg"
      },
      "outputs": [],
      "source": [
        "converter = tf.lite.TFLiteConverter.from_keras_model(model)\n",
        "converter.allow_custom_ops = True\n",
        "converter.target_spec.supported_ops = [\n",
        "    tf.lite.OpsSet.TFLITE_BUILTINS,\n",
        "    tf.lite.OpsSet.SELECT_TF_OPS\n",
        "]\n",
        "converter.experimental_fixed_shape = True  # Optional\n",
        "tflite_model = converter.convert()\n",
        "\n",
        "with open('/content/drive/MyDrive/Coding_Camp/Capstone_Project/models/experiment3/model.tflite', 'wb') as f:\n",
        "    f.write(tflite_model)\n"
      ]
    },
    {
      "cell_type": "markdown",
      "metadata": {
        "id": "Bsdc31t1tiZO"
      },
      "source": [
        "# 8. Inferensi dengan Save Model dan TFLite"
      ]
    },
    {
      "cell_type": "code",
      "execution_count": 57,
      "metadata": {
        "colab": {
          "base_uri": "https://localhost:8080/"
        },
        "id": "jcLpCAs8pI59",
        "outputId": "312e52ce-48b6-4ca0-b341-630a1aa9081a"
      },
      "outputs": [
        {
          "name": "stdout",
          "output_type": "stream",
          "text": [
            "The predicted category for the text 'ada kalajengking pak dalam rumah saya. lokasi jalan jeruk no.9' is: Penyelamatan Non Hewan & Bantuan Teknis\n",
            "The predicted category for the text 'tolong pak kebakaran di jalan sudirman' is: Kebakaran\n",
            "The predicted category for the text 'ada orang terjebak dalam lift yang rusak pak. lokasi gedung honda' is: Penyelamatan Non Hewan & Bantuan Teknis\n",
            "The predicted category for the text 'pohon tumbang depan kejaksaan pak' is: Layanan Lingkungan & Fasilitas Umum\n",
            "The predicted category for the text 'ada ular kobra pak dirumah saya. alamat jalan mangga no.4' is: Evakuasi/Penyelamatan Hewan\n"
          ]
        }
      ],
      "source": [
        "# Load the saved model\n",
        "loaded_model = tf.saved_model.load('/content/drive/MyDrive/Coding_Camp/Capstone_Project/models/experiment3/saved_model')\n",
        "infer = loaded_model.signatures[\"serving_default\"]\n",
        "\n",
        "# Load the label encoder\n",
        "label_encoder = joblib.load('/content/drive/MyDrive/Coding_Camp/Capstone_Project/label_encoder.pkl')\n",
        "\n",
        "# Define the inference function using the loaded model\n",
        "def predict_label_loaded_model(text):\n",
        "    encoded_text = encode_data(tokenizer, [text])\n",
        "    # The input tensor names might vary depending on how the model was saved.\n",
        "    # You might need to inspect the loaded_model.signatures[\"serving_default\"].structured_input_signature\n",
        "    # to get the exact input tensor names.\n",
        "    # Assuming the input names are 'input_ids', 'token_type_ids', and 'attention_mask'\n",
        "    predictions = infer(\n",
        "        input_ids=encoded_text.input_ids,\n",
        "        token_type_ids=encoded_text.token_type_ids,\n",
        "        attention_mask=encoded_text.attention_mask\n",
        "    )\n",
        "\n",
        "    # The output tensor name might also vary.\n",
        "    # Assuming the output tensor name is 'logits'\n",
        "    pred_logits = predictions['logits'].numpy()\n",
        "    pred_encoded = np.argmax(pred_logits, axis=1)\n",
        "    predicted_label = label_encoder.inverse_transform(pred_encoded)\n",
        "    return predicted_label[0]\n",
        "\n",
        "## Example usage:\n",
        "sample_text = \"ada kalajengking pak dalam rumah saya. lokasi jalan jeruk no.9\"\n",
        "predicted_category = predict_label_loaded_model(sample_text)\n",
        "print(f\"The predicted category for the text '{sample_text}' is: {predicted_category}\")\n",
        "\n",
        "sample_text_2 = \"tolong pak kebakaran di jalan sudirman\"\n",
        "predicted_category_2 = predict_label_loaded_model(sample_text_2)\n",
        "print(f\"The predicted category for the text '{sample_text_2}' is: {predicted_category_2}\")\n",
        "\n",
        "sample_text_3 = \"ada orang terjebak dalam lift yang rusak pak. lokasi gedung honda\"\n",
        "predicted_category_3 = predict_label_loaded_model(sample_text_3)\n",
        "print(f\"The predicted category for the text '{sample_text_3}' is: {predicted_category_3}\")\n",
        "\n",
        "sample_text_4 = \"pohon tumbang depan kejaksaan pak\"\n",
        "predicted_category_4 = predict_label_loaded_model(sample_text_4)\n",
        "print(f\"The predicted category for the text '{sample_text_4}' is: {predicted_category_4}\")\n",
        "\n",
        "sample_text_5 = \"ada ular kobra pak dirumah saya. alamat jalan mangga no.4\"\n",
        "predicted_category_5 = predict_label_loaded_model(sample_text_5)\n",
        "print(f\"The predicted category for the text '{sample_text_5}' is: {predicted_category_5}\")"
      ]
    },
    {
      "cell_type": "code",
      "execution_count": 65,
      "metadata": {
        "colab": {
          "base_uri": "https://localhost:8080/"
        },
        "id": "0EOIhe3qjzJc",
        "outputId": "bb02a644-6778-423f-ec59-bf04261af16f"
      },
      "outputs": [
        {
          "name": "stdout",
          "output_type": "stream",
          "text": [
            "=== Hasil Prediksi TFLite Model ===\n",
            "1. Text: 'permisi pak, ada kebakaran di kantor kejaksaan'\n",
            "   Predicted Category: Kebakaran\n",
            "\n",
            "2. Text: 'ular masuk rumah pak'\n",
            "   Predicted Category: Evakuasi/Penyelamatan Hewan\n",
            "\n",
            "3. Text: 'kebakaran di menara kembar Pak'\n",
            "   Predicted Category: Kebakaran\n",
            "\n",
            "4. Text: 'ada kucing terjebak di atap rumah'\n",
            "   Predicted Category: Evakuasi/Penyelamatan Hewan\n",
            "\n",
            "5. Text: 'pohon tumbang menghalangi jalan raya'\n",
            "   Predicted Category: Layanan Lingkungan & Fasilitas Umum\n",
            "\n",
            "6. Text: 'teman saya terjebak dalam lift pak, meminta bantuan evakuasi penyelamatan'\n",
            "   Predicted Category: Penyelamatan Non Hewan & Bantuan Teknis\n",
            "\n"
          ]
        }
      ],
      "source": [
        "# Load TFLite model\n",
        "interpreter = tf.lite.Interpreter(model_path=\"/content/drive/MyDrive/Coding_Camp/Capstone_Project/models/experiment3/model.tflite\")\n",
        "interpreter.allocate_tensors()\n",
        "\n",
        "# Get input/output info\n",
        "input_details = interpreter.get_input_details()\n",
        "output_details = interpreter.get_output_details()\n",
        "\n",
        "# Function for prediction using resize method (the working one)\n",
        "def predict_label_tflite(text, max_len=128):\n",
        "    \"\"\"\n",
        "    Predict label using TFLite model with tensor resizing\n",
        "    \"\"\"\n",
        "    # Resize input tensors to accept longer sequences\n",
        "    interpreter.resize_tensor_input(0, [1, max_len])  # attention_mask\n",
        "    interpreter.resize_tensor_input(1, [1, max_len])  # input_ids\n",
        "    interpreter.resize_tensor_input(2, [1, max_len])  # token_type_ids\n",
        "    interpreter.allocate_tensors()\n",
        "\n",
        "    # Tokenize text\n",
        "    encoded = tokenizer(\n",
        "        [text],\n",
        "        max_length=max_len,\n",
        "        padding='max_length',\n",
        "        truncation=True,\n",
        "        return_tensors='np'\n",
        "    )\n",
        "\n",
        "    # Convert to int32 for TFLite\n",
        "    input_ids = encoded['input_ids'].astype(np.int32)\n",
        "    token_type_ids = encoded['token_type_ids'].astype(np.int32)\n",
        "    attention_mask = encoded['attention_mask'].astype(np.int32)\n",
        "\n",
        "    # Set tensors (based on the working order from your output)\n",
        "    interpreter.set_tensor(input_details[0]['index'], attention_mask)  # attention_mask first\n",
        "    interpreter.set_tensor(input_details[1]['index'], input_ids)       # input_ids second\n",
        "    interpreter.set_tensor(input_details[2]['index'], token_type_ids)  # token_type_ids third\n",
        "\n",
        "    # Run inference\n",
        "    interpreter.invoke()\n",
        "\n",
        "    # Get output and predict\n",
        "    output = interpreter.get_tensor(output_details[0]['index'])\n",
        "    pred_encoded = np.argmax(output, axis=1)\n",
        "    predicted_label = label_encoder.inverse_transform(pred_encoded)\n",
        "\n",
        "    return predicted_label[0]\n",
        "\n",
        "# Test dengan contoh teks\n",
        "sample_texts = [\n",
        "    \"permisi pak, ada kebakaran di kantor kejaksaan\",\n",
        "    \"ular masuk rumah pak\",\n",
        "    \"kebakaran di menara kembar Pak\",\n",
        "    \"ada kucing terjebak di atap rumah\",\n",
        "    \"pohon tumbang menghalangi jalan raya\",\n",
        "    \"teman saya terjebak dalam lift pak, meminta bantuan evakuasi penyelamatan\"\n",
        "]\n",
        "\n",
        "print(\"=== Hasil Prediksi TFLite Model ===\")\n",
        "for i, text in enumerate(sample_texts, 1):\n",
        "    try:\n",
        "        prediction = predict_label_tflite(text)\n",
        "        print(f\"{i}. Text: '{text}'\")\n",
        "        print(f\"   Predicted Category: {prediction}\")\n",
        "        print()\n",
        "    except Exception as e:\n",
        "        print(f\"{i}. Text: '{text}'\")\n",
        "        print(f\"   Error: {e}\")\n",
        "        print()"
      ]
    },
    {
      "cell_type": "code",
      "execution_count": null,
      "metadata": {
        "id": "PuE0wENWvGMh"
      },
      "outputs": [],
      "source": []
    }
  ],
  "metadata": {
    "accelerator": "GPU",
    "colab": {
      "gpuType": "T4",
      "provenance": []
    },
    "kernelspec": {
      "display_name": "Python 3",
      "name": "python3"
    },
    "language_info": {
      "name": "python"
    }
  },
  "nbformat": 4,
  "nbformat_minor": 0
}
